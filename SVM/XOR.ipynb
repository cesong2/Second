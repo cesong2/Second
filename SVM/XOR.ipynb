{
 "cells": [
  {
   "cell_type": "code",
   "execution_count": 2,
   "metadata": {},
   "outputs": [
    {
     "name": "stdout",
     "output_type": "stream",
     "text": [
      "[[0, 0], [1, 0], [0, 1], [1, 1]] 의 예측 결과:  [0 1 1 0]\n",
      "정답률 =  1.0\n"
     ]
    }
   ],
   "source": [
    "from sklearn.svm import SVC\n",
    "from sklearn.metrics import accuracy_score\n",
    "X_train = [[0,0], [1,0], [0,1], [1,1]]\n",
    "# X xor Y\n",
    "y_train = [0, 1, 1, 0]\n",
    "#svm = SVC(kernel='linear')\n",
    "svm = SVC(kernel='rbf')\n",
    "svm.fit(X_train, y_train)\n",
    "# 예측\n",
    "X_test = [[0,0], [1,0], [0,1], [1,1]]\n",
    "pred = svm.predict(X_test)\n",
    "# 평가\n",
    "print(X_test , \"의 예측 결과: \" , pred)\n",
    "print(\"정답률 = \" , accuracy_score([0, 1, 1, 0], pred))"
   ]
  },
  {
   "cell_type": "code",
   "execution_count": null,
   "metadata": {},
   "outputs": [],
   "source": []
  }
 ],
 "metadata": {
  "kernelspec": {
   "display_name": "base",
   "language": "python",
   "name": "python3"
  },
  "language_info": {
   "codemirror_mode": {
    "name": "ipython",
    "version": 3
   },
   "file_extension": ".py",
   "mimetype": "text/x-python",
   "name": "python",
   "nbconvert_exporter": "python",
   "pygments_lexer": "ipython3",
   "version": "3.9.13"
  },
  "orig_nbformat": 4
 },
 "nbformat": 4,
 "nbformat_minor": 2
}
